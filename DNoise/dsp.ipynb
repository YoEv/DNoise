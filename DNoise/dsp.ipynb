{
  "nbformat": 4,
  "nbformat_minor": 0,
  "metadata": {
    "colab": {
      "provenance": []
    },
    "kernelspec": {
      "name": "python3",
      "display_name": "Python 3"
    },
    "language_info": {
      "name": "python"
    }
  },
  "cells": [
    {
      "cell_type": "code",
      "source": [
        "pip install julius"
      ],
      "metadata": {
        "colab": {
          "base_uri": "https://localhost:8080/"
        },
        "id": "f0Duz3ksocQQ",
        "outputId": "a4688da7-4507-45d7-982f-86933423113f"
      },
      "execution_count": 4,
      "outputs": [
        {
          "output_type": "stream",
          "name": "stdout",
          "text": [
            "Collecting julius\n",
            "  Downloading julius-0.2.7.tar.gz (59 kB)\n",
            "\u001b[?25l     \u001b[90m━━━━━━━━━━━━━━━━━━━━━━━━━━━━━━━━━━━━━━━━\u001b[0m \u001b[32m0.0/59.6 kB\u001b[0m \u001b[31m?\u001b[0m eta \u001b[36m-:--:--\u001b[0m\r\u001b[2K     \u001b[90m━━━━━━━━━━━━━━━━━━━━━━━━━━━━━━━━━━━━━━━━\u001b[0m \u001b[32m59.6/59.6 kB\u001b[0m \u001b[31m1.7 MB/s\u001b[0m eta \u001b[36m0:00:00\u001b[0m\n",
            "\u001b[?25h  Preparing metadata (setup.py) ... \u001b[?25l\u001b[?25hdone\n",
            "Requirement already satisfied: torch>=1.7.0 in /usr/local/lib/python3.10/dist-packages (from julius) (2.0.1+cu118)\n",
            "Requirement already satisfied: filelock in /usr/local/lib/python3.10/dist-packages (from torch>=1.7.0->julius) (3.12.4)\n",
            "Requirement already satisfied: typing-extensions in /usr/local/lib/python3.10/dist-packages (from torch>=1.7.0->julius) (4.5.0)\n",
            "Requirement already satisfied: sympy in /usr/local/lib/python3.10/dist-packages (from torch>=1.7.0->julius) (1.12)\n",
            "Requirement already satisfied: networkx in /usr/local/lib/python3.10/dist-packages (from torch>=1.7.0->julius) (3.1)\n",
            "Requirement already satisfied: jinja2 in /usr/local/lib/python3.10/dist-packages (from torch>=1.7.0->julius) (3.1.2)\n",
            "Requirement already satisfied: triton==2.0.0 in /usr/local/lib/python3.10/dist-packages (from torch>=1.7.0->julius) (2.0.0)\n",
            "Requirement already satisfied: cmake in /usr/local/lib/python3.10/dist-packages (from triton==2.0.0->torch>=1.7.0->julius) (3.27.6)\n",
            "Requirement already satisfied: lit in /usr/local/lib/python3.10/dist-packages (from triton==2.0.0->torch>=1.7.0->julius) (17.0.2)\n",
            "Requirement already satisfied: MarkupSafe>=2.0 in /usr/local/lib/python3.10/dist-packages (from jinja2->torch>=1.7.0->julius) (2.1.3)\n",
            "Requirement already satisfied: mpmath>=0.19 in /usr/local/lib/python3.10/dist-packages (from sympy->torch>=1.7.0->julius) (1.3.0)\n",
            "Building wheels for collected packages: julius\n",
            "  Building wheel for julius (setup.py) ... \u001b[?25l\u001b[?25hdone\n",
            "  Created wheel for julius: filename=julius-0.2.7-py3-none-any.whl size=21868 sha256=17b463d16424385568723a6f04dd6f714f9c1c2c10fb4c9c1154bcd988f6bec2\n",
            "  Stored in directory: /root/.cache/pip/wheels/b9/b2/05/f883527ffcb7f2ead5438a2c23439aa0c881eaa9a4c80256f4\n",
            "Successfully built julius\n",
            "Installing collected packages: julius\n",
            "Successfully installed julius-0.2.7\n"
          ]
        }
      ]
    },
    {
      "cell_type": "code",
      "execution_count": 9,
      "metadata": {
        "id": "lwG3pb3boM5g"
      },
      "outputs": [],
      "source": [
        "import julius\n",
        "import numpy as np\n",
        "import torch\n",
        "from torch.nn import functional as F"
      ]
    },
    {
      "cell_type": "code",
      "source": [
        "def hz_to_mel(f):\n",
        "  return 2595 * np.log10(1 + f / 700)\n",
        "\n",
        "def mel_to_hz(m):\n",
        "  return 700 * (10**(m / 2595) - 1)\n",
        "\n",
        "def mel_frequencies(n_mels, fmin, fmax):  #hz to mel to hz, 取mel值之后的转换\n",
        "  low = hz_to_mel(fmin)\n",
        "  high = hz_to_mel(fmax)\n",
        "  mels = np.linspace(low, high, n_mels)\n",
        "  return mel_to_hz(mels)\n",
        "\n",
        "def convert_audio_channels(wav, channels=2): #could change here for the channels number, depend on what we need\n",
        "  *shape, src_channels, length = wav.shape #typically shape is num_frame, so I have to change here as well\n",
        "  if scr_channels == channels:\n",
        "    pass\n",
        "  elif channels == 1:\n",
        "    wav = wav.mean(dim=-2, keepdim=True)\n",
        "  elif src_channels == 1:\n",
        "    wav = wav.expand(*shape, channels, length) #need to change as well\n",
        "  elif src_channels >= 1:\n",
        "    wav = wav[..., :channels, :]\n",
        "  else:\n",
        "    raise ValueError('The audio file has less channels than requested but is not mono.')\n",
        "  return wav\n",
        "\n",
        "def convert_audio(wav, from_samplerate, to_samplerate, channels): #convert sample_rate\n",
        "  wav = convert_audio_channels(wav, channels)\n",
        "  return julius.resemple_frac(wav, from_samplerate, to_samplerate)\n"
      ],
      "metadata": {
        "id": "eVrwVM08o_iO"
      },
      "execution_count": 7,
      "outputs": []
    },
    {
      "cell_type": "code",
      "source": [
        "class LowPassFilters(torch.nn.Module):\n",
        "  def __init__(self, cutoffs: list, width: int = None):\n",
        "    super().__init__()\n",
        "    self.cutoffs = cutoffs\n",
        "    if width is None:\n",
        "      width = int(2 / min(cutoffs))\n",
        "    self.width = width\n",
        "    window = torch.hamming_window(2 * width + 1, periodic=False)\n",
        "    t = np.arange(-width, width + 1, dtype=np.float32) #evenly spaced time\n",
        "    filters = []\n",
        "    for cutoff in cutoff:\n",
        "      sinc = torch.from_numpy(np.sinc(2 * cutoff * t))\n",
        "      filters.append(2 * cutoff *sinc * window)\n",
        "    self.register_buffer(\"filters\", torch.stack(filters).unsqueeze(1))\n",
        "\n",
        "  def forward(self, input):\n",
        "    *others, t = input.shape\n",
        "    input = input.view(-1, 1, t)\n",
        "    out = F.conv1d(input, self.filters, padding=self.width)\n",
        "    return out.premute(1, 0, 2).reshape(-1, *others, t)\n",
        "\n",
        "  def __repr__(self): #Changed LowPassFilters\n",
        "    return \"LowPassFilters(width={}, cutoffs={})\".fornat(self.width, self.cutoffs)"
      ],
      "metadata": {
        "id": "dIzDViN6v7Ka"
      },
      "execution_count": 8,
      "outputs": []
    }
  ]
}