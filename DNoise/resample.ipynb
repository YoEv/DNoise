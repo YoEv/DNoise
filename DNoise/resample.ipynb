{
  "nbformat": 4,
  "nbformat_minor": 0,
  "metadata": {
    "colab": {
      "provenance": []
    },
    "kernelspec": {
      "name": "python3",
      "display_name": "Python 3"
    },
    "language_info": {
      "name": "python"
    }
  },
  "cells": [
    {
      "cell_type": "code",
      "execution_count": 2,
      "metadata": {
        "id": "oBVT_Gj60Win"
      },
      "outputs": [],
      "source": [
        "import math\n",
        "import torch as th\n",
        "from torch.nn import functional as F"
      ]
    },
    {
      "cell_type": "markdown",
      "source": [
        "### Layers open and close ###\n",
        "\n",
        "- This resample consist upsample and downsample\n",
        "- The upsample and downsample processes represents how the layers from 1 to L\n",
        "- In the Encoding and Decoding processes and happens in each layer it takes.\n",
        "- 'zeros' is the default which being set to 56."
      ],
      "metadata": {
        "id": "AeCNMmT083Dy"
      }
    },
    {
      "cell_type": "code",
      "source": [
        "def sinc(t):\n",
        "  return th.where(t == 0, th.tensor(1., device=t.device, dtype=t.dtype),th.sin(t) / t)\n",
        "\n",
        "def kernel_upsample2(zeros=56): #may change here for windowing chosen\n",
        "  win = th.hamm_window(4 * zeros + 1, periodic=False)\n",
        "  winodd = win[1::2]\n",
        "  t = th.linspace(-zeros + 0.5, zeros - 0.5, 2 * zeros)\n",
        "  t *= math.pi\n",
        "  kernel = (sinc(t) * winodd).view(1, 1, -1)\n",
        "  return kernel\n",
        "\n",
        "def upsample2(x, zeros=56):\n",
        "  *other, time = x.shape\n",
        "  kernel = kernel_upsample2(zeros).to(x)\n",
        "  out = F.conv1d(x.view(-1, 1, time), kernel, padding=zeros)[..., 1:].view(*other, time)\n",
        "  y = th.stack([x, out], dim=-1)\n",
        "  return y.view(*other, -1)\n",
        "\n",
        "def kernel_downsample2(zeros=56):\n",
        "  win = th.hann_window(4 * zeros + 1, periodic=False)\n",
        "  winodd = win[1::2]\n",
        "  t = th.linspace(-zeros + 0.5, zeros - 0.5, 2 * zeros)\n",
        "  t.mul_(math.pi)\n",
        "  kernel = (sinc(t) * winodd).view(1, 1, -1)\n",
        "  return kernel\n",
        "\n",
        "def downsample2(x, zeros=56):\n",
        "  if x.shape[-1] % 2 != 0:\n",
        "    x = F.pad(x, (0, 1))\n",
        "  xeven = x[..., ::2]\n",
        "  xodd = x[..., 1::2]\n",
        "  *other, time = xodd.shape\n",
        "  kernel = kernel_downsample2(zeros).to(x)\n",
        "  out = xeven + F.conv1d(xodd.view(-1, 1, time), kernel, padding=zeros)[..., :-1].view(*other, time)\n",
        "  return out.view(*other, -1).mul(0.5)"
      ],
      "metadata": {
        "id": "AMyNBbAc6FUX"
      },
      "execution_count": 3,
      "outputs": []
    }
  ]
}