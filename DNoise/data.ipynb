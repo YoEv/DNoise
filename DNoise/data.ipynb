{
  "cells": [
    {
      "cell_type": "markdown",
      "id": "2f1a2348",
      "metadata": {
        "id": "2f1a2348"
      },
      "source": [
        "list of noisy filenames, and list of the clean filenames"
      ]
    },
    {
      "cell_type": "code",
      "execution_count": null,
      "id": "80006e48",
      "metadata": {
        "id": "80006e48"
      },
      "outputs": [],
      "source": [
        "import json\n",
        "import logging\n",
        "import os\n",
        "import re\n",
        "from audio import Audioset\n",
        "\n",
        "logger = logging.getLogger(__name__)"
      ]
    },
    {
      "cell_type": "markdown",
      "id": "035f3823",
      "metadata": {
        "id": "035f3823"
      },
      "source": [
        "match noisy and clean dataset, in our dataset DNS dataset filenames\n",
        "match in 5 different ways."
      ]
    },
    {
      "cell_type": "code",
      "execution_count": null,
      "id": "7d317940",
      "metadata": {
        "id": "7d317940"
      },
      "outputs": [],
      "source": [
        "def match_dns(noisy, clean):\n",
        "    logger.debug(\"Matching noisy and clean for dns dataset\")\n",
        "    noisydict = {}\n",
        "    extra_noisy = []\n",
        "    for path, size in noisy:\n",
        "        match = re.search(r'field_(\\d+).wav$', path)\n",
        "        if match is None:\n",
        "            extra_noisy.append((path, size))\n",
        "        else:\n",
        "            noisydict[match.group(1)] = (path, size)\n",
        "    noisy[:] = []\n",
        "    exrta_clean = []\n",
        "    copied = list(clean)\n",
        "    clean[:] = []\n",
        "\n",
        "    for path, size in copied:\n",
        "        match = re.search(r'fileid_(\\d+)\\.wav$', path)\n",
        "        if match is None:\n",
        "            extra_clean.append((path, size))\n",
        "        else:\n",
        "            noisy.append(noisydict[match.group(1)])\n",
        "            clean.append((path, size))\n",
        "    extra_noisy.sort()\n",
        "    extra_clean.sort()\n",
        "    clean += extra_clean\n",
        "    noisy += extra_noisy\n",
        "\n",
        "def match_files(noisy, clean, matching=\"sort\"):\n",
        "    if matching == \"dns\":\n",
        "        match_dns(noisy, clean)\n",
        "    elif matching == \"sort\":\n",
        "        noisy.sort()\n",
        "        clean.sort()\n",
        "    else:\n",
        "        raise ValueError(f\"Invalid value for matching {matching}\")\n"
      ]
    },
    {
      "cell_type": "code",
      "execution_count": null,
      "id": "7959744b",
      "metadata": {
        "id": "7959744b"
      },
      "outputs": [],
      "source": [
        "class NoisyCleanSet:\n",
        "    def __init__(self, json_dir, matching=\"sort\", length=None, stride=None, pad=True, sample_rate=None):\n",
        "        noisy_json = os.path.join(json_dir, 'noisy.json')\n",
        "        clean_json = os.path.join(json_dir, 'clean.json')\n",
        "        with open(noisy_json, 'r') as f:\n",
        "            noisy = json.load(f)\n",
        "        with open(clean_json, 'r') as f:\n",
        "            clean = json.load(f)\n",
        "\n",
        "        match_files(noise, clean, matching)\n",
        "        kw = {'length': length, 'stride': stride, 'pad': pad, 'sample_rate': sample_rate}\n",
        "        self.clean_set = Audioset(clean, **kw) #DO I HAVE to add all features here????\n",
        "        self.noisy_set = Audioset(noisy, **kw)\n",
        "\n",
        "    def __getitem__(self, index):\n",
        "        return self.noisy_set[index], self.clean_set[index]\n",
        "\n",
        "    def __len__(self):\n",
        "        return len(self.noisy_set)"
      ]
    }
  ],
  "metadata": {
    "kernelspec": {
      "display_name": "Python 3 (ipykernel)",
      "language": "python",
      "name": "python3"
    },
    "language_info": {
      "codemirror_mode": {
        "name": "ipython",
        "version": 3
      },
      "file_extension": ".py",
      "mimetype": "text/x-python",
      "name": "python",
      "nbconvert_exporter": "python",
      "pygments_lexer": "ipython3",
      "version": "3.11.5"
    },
    "colab": {
      "provenance": []
    }
  },
  "nbformat": 4,
  "nbformat_minor": 5
}