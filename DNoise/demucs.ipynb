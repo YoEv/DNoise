{
  "nbformat": 4,
  "nbformat_minor": 0,
  "metadata": {
    "colab": {
      "provenance": []
    },
    "kernelspec": {
      "name": "python3",
      "display_name": "Python 3"
    },
    "language_info": {
      "name": "python"
    }
  },
  "cells": [
    {
      "cell_type": "code",
      "source": [
        "from google.colab import files\n",
        "uploaded = files.upload()"
      ],
      "metadata": {
        "colab": {
          "base_uri": "https://localhost:8080/",
          "height": 122
        },
        "id": "mMub_A4CxY6O",
        "outputId": "809fb4e8-32c5-4ef6-e239-a3fd68966142"
      },
      "execution_count": null,
      "outputs": [
        {
          "output_type": "display_data",
          "data": {
            "text/plain": [
              "<IPython.core.display.HTML object>"
            ],
            "text/html": [
              "\n",
              "     <input type=\"file\" id=\"files-d6e54b2a-c4f2-48ae-ae2d-2c9a110c0db5\" name=\"files[]\" multiple disabled\n",
              "        style=\"border:none\" />\n",
              "     <output id=\"result-d6e54b2a-c4f2-48ae-ae2d-2c9a110c0db5\">\n",
              "      Upload widget is only available when the cell has been executed in the\n",
              "      current browser session. Please rerun this cell to enable.\n",
              "      </output>\n",
              "      <script>// Copyright 2017 Google LLC\n",
              "//\n",
              "// Licensed under the Apache License, Version 2.0 (the \"License\");\n",
              "// you may not use this file except in compliance with the License.\n",
              "// You may obtain a copy of the License at\n",
              "//\n",
              "//      http://www.apache.org/licenses/LICENSE-2.0\n",
              "//\n",
              "// Unless required by applicable law or agreed to in writing, software\n",
              "// distributed under the License is distributed on an \"AS IS\" BASIS,\n",
              "// WITHOUT WARRANTIES OR CONDITIONS OF ANY KIND, either express or implied.\n",
              "// See the License for the specific language governing permissions and\n",
              "// limitations under the License.\n",
              "\n",
              "/**\n",
              " * @fileoverview Helpers for google.colab Python module.\n",
              " */\n",
              "(function(scope) {\n",
              "function span(text, styleAttributes = {}) {\n",
              "  const element = document.createElement('span');\n",
              "  element.textContent = text;\n",
              "  for (const key of Object.keys(styleAttributes)) {\n",
              "    element.style[key] = styleAttributes[key];\n",
              "  }\n",
              "  return element;\n",
              "}\n",
              "\n",
              "// Max number of bytes which will be uploaded at a time.\n",
              "const MAX_PAYLOAD_SIZE = 100 * 1024;\n",
              "\n",
              "function _uploadFiles(inputId, outputId) {\n",
              "  const steps = uploadFilesStep(inputId, outputId);\n",
              "  const outputElement = document.getElementById(outputId);\n",
              "  // Cache steps on the outputElement to make it available for the next call\n",
              "  // to uploadFilesContinue from Python.\n",
              "  outputElement.steps = steps;\n",
              "\n",
              "  return _uploadFilesContinue(outputId);\n",
              "}\n",
              "\n",
              "// This is roughly an async generator (not supported in the browser yet),\n",
              "// where there are multiple asynchronous steps and the Python side is going\n",
              "// to poll for completion of each step.\n",
              "// This uses a Promise to block the python side on completion of each step,\n",
              "// then passes the result of the previous step as the input to the next step.\n",
              "function _uploadFilesContinue(outputId) {\n",
              "  const outputElement = document.getElementById(outputId);\n",
              "  const steps = outputElement.steps;\n",
              "\n",
              "  const next = steps.next(outputElement.lastPromiseValue);\n",
              "  return Promise.resolve(next.value.promise).then((value) => {\n",
              "    // Cache the last promise value to make it available to the next\n",
              "    // step of the generator.\n",
              "    outputElement.lastPromiseValue = value;\n",
              "    return next.value.response;\n",
              "  });\n",
              "}\n",
              "\n",
              "/**\n",
              " * Generator function which is called between each async step of the upload\n",
              " * process.\n",
              " * @param {string} inputId Element ID of the input file picker element.\n",
              " * @param {string} outputId Element ID of the output display.\n",
              " * @return {!Iterable<!Object>} Iterable of next steps.\n",
              " */\n",
              "function* uploadFilesStep(inputId, outputId) {\n",
              "  const inputElement = document.getElementById(inputId);\n",
              "  inputElement.disabled = false;\n",
              "\n",
              "  const outputElement = document.getElementById(outputId);\n",
              "  outputElement.innerHTML = '';\n",
              "\n",
              "  const pickedPromise = new Promise((resolve) => {\n",
              "    inputElement.addEventListener('change', (e) => {\n",
              "      resolve(e.target.files);\n",
              "    });\n",
              "  });\n",
              "\n",
              "  const cancel = document.createElement('button');\n",
              "  inputElement.parentElement.appendChild(cancel);\n",
              "  cancel.textContent = 'Cancel upload';\n",
              "  const cancelPromise = new Promise((resolve) => {\n",
              "    cancel.onclick = () => {\n",
              "      resolve(null);\n",
              "    };\n",
              "  });\n",
              "\n",
              "  // Wait for the user to pick the files.\n",
              "  const files = yield {\n",
              "    promise: Promise.race([pickedPromise, cancelPromise]),\n",
              "    response: {\n",
              "      action: 'starting',\n",
              "    }\n",
              "  };\n",
              "\n",
              "  cancel.remove();\n",
              "\n",
              "  // Disable the input element since further picks are not allowed.\n",
              "  inputElement.disabled = true;\n",
              "\n",
              "  if (!files) {\n",
              "    return {\n",
              "      response: {\n",
              "        action: 'complete',\n",
              "      }\n",
              "    };\n",
              "  }\n",
              "\n",
              "  for (const file of files) {\n",
              "    const li = document.createElement('li');\n",
              "    li.append(span(file.name, {fontWeight: 'bold'}));\n",
              "    li.append(span(\n",
              "        `(${file.type || 'n/a'}) - ${file.size} bytes, ` +\n",
              "        `last modified: ${\n",
              "            file.lastModifiedDate ? file.lastModifiedDate.toLocaleDateString() :\n",
              "                                    'n/a'} - `));\n",
              "    const percent = span('0% done');\n",
              "    li.appendChild(percent);\n",
              "\n",
              "    outputElement.appendChild(li);\n",
              "\n",
              "    const fileDataPromise = new Promise((resolve) => {\n",
              "      const reader = new FileReader();\n",
              "      reader.onload = (e) => {\n",
              "        resolve(e.target.result);\n",
              "      };\n",
              "      reader.readAsArrayBuffer(file);\n",
              "    });\n",
              "    // Wait for the data to be ready.\n",
              "    let fileData = yield {\n",
              "      promise: fileDataPromise,\n",
              "      response: {\n",
              "        action: 'continue',\n",
              "      }\n",
              "    };\n",
              "\n",
              "    // Use a chunked sending to avoid message size limits. See b/62115660.\n",
              "    let position = 0;\n",
              "    do {\n",
              "      const length = Math.min(fileData.byteLength - position, MAX_PAYLOAD_SIZE);\n",
              "      const chunk = new Uint8Array(fileData, position, length);\n",
              "      position += length;\n",
              "\n",
              "      const base64 = btoa(String.fromCharCode.apply(null, chunk));\n",
              "      yield {\n",
              "        response: {\n",
              "          action: 'append',\n",
              "          file: file.name,\n",
              "          data: base64,\n",
              "        },\n",
              "      };\n",
              "\n",
              "      let percentDone = fileData.byteLength === 0 ?\n",
              "          100 :\n",
              "          Math.round((position / fileData.byteLength) * 100);\n",
              "      percent.textContent = `${percentDone}% done`;\n",
              "\n",
              "    } while (position < fileData.byteLength);\n",
              "  }\n",
              "\n",
              "  // All done.\n",
              "  yield {\n",
              "    response: {\n",
              "      action: 'complete',\n",
              "    }\n",
              "  };\n",
              "}\n",
              "\n",
              "scope.google = scope.google || {};\n",
              "scope.google.colab = scope.google.colab || {};\n",
              "scope.google.colab._files = {\n",
              "  _uploadFiles,\n",
              "  _uploadFilesContinue,\n",
              "};\n",
              "})(self);\n",
              "</script> "
            ]
          },
          "metadata": {}
        },
        {
          "output_type": "stream",
          "name": "stdout",
          "text": [
            "Saving resample.py to resample.py\n",
            "Saving utils.py to utils.py\n"
          ]
        }
      ]
    },
    {
      "cell_type": "code",
      "source": [
        "from google.colab import drive\n",
        "drive.mount('/content/drive')"
      ],
      "metadata": {
        "colab": {
          "base_uri": "https://localhost:8080/"
        },
        "id": "BoKFQeapzcCP",
        "outputId": "9f58904a-0882-4183-c85a-c5bb57e77f95"
      },
      "execution_count": null,
      "outputs": [
        {
          "output_type": "stream",
          "name": "stdout",
          "text": [
            "Mounted at /content/drive\n"
          ]
        }
      ]
    },
    {
      "cell_type": "code",
      "execution_count": null,
      "metadata": {
        "id": "wNytPm3zwH9M"
      },
      "outputs": [],
      "source": [
        "import math\n",
        "import time\n",
        "import torch as th\n",
        "from torch import nn\n",
        "from torch.nn import functional as F\n",
        "from resample import downsample2, upsample2\n",
        "from utils import capture_init"
      ]
    },
    {
      "cell_type": "markdown",
      "source": [
        "#### Long-Short Term Memory Recurrent Neural Network\n",
        "- Will be replaced with other Neural Network such as GRU, BRNN, ESNs, and Peephole, Connections Neural Network, and etc.\n",
        "- To experiment with them all and try to build other architecture to train the model."
      ],
      "metadata": {
        "id": "RfdFdwu25pMw"
      }
    },
    {
      "cell_type": "code",
      "source": [
        "class BLSTM(nn.Module):\n",
        "  def __init__(self, dim, layers=2, bi=True):\n",
        "    super().__init__()\n",
        "    klass = nn.LSTM\n",
        "    self.lstm = klass(bidirectional=bi, num_layers=layers, hidden_size=dim, input_size=dim)\n",
        "    self.linear = None\n",
        "    if bi:\n",
        "      self.linear = nn.Linear(2 * dim, dim)\n",
        "\n",
        "    def forward(self, x, hidden=None):\n",
        "      x, hidden = self.lstm(x, hidden)\n",
        "      if self.linear:\n",
        "        x = self.linear(x)\n",
        "      return x, hidden"
      ],
      "metadata": {
        "id": "C1OgD5mJ1GmU"
      },
      "execution_count": null,
      "outputs": []
    },
    {
      "cell_type": "code",
      "source": [
        "\n",
        "def rescale_conv(conv, reference):\n",
        "      std = conv.weight.std().detach()\n",
        "      scale = (std / reference)**0.5\n",
        "      conv.weight.data /= scale\n",
        "      if conv.bias is not None:\n",
        "        conv.bias.data /= scale\n",
        "\n",
        "def rescale_module(module, reference):\n",
        "  for sub in module.modules():\n",
        "    if isinstance(sub, (nn.Conv1d, nn.ConvTranspose1d)):\n",
        "      rescale_conv(sub, reference)"
      ],
      "metadata": {
        "id": "xzhPA4394CwD"
      },
      "execution_count": null,
      "outputs": []
    },
    {
      "cell_type": "markdown",
      "source": [
        "#### Demucs Architecture"
      ],
      "metadata": {
        "id": "mJCXHNsl5kAB"
      }
    },
    {
      "cell_type": "code",
      "source": [
        "class Demucs(nn.Module):\n",
        "  @capture_init\n",
        "  def __init__(self, chin=1, chout=1, hidden=48, depth=5, kernel_size=8, stride=4, causal=True, resample=4, growth=2, max_hidden=10_1000,\n",
        "               normalize=True, glu=True, rescale=0.1, floor=1e-3, sample_rate=16_000):\n",
        "    super().__init__()\n",
        "    if resample not in [1, 2, 4]:\n",
        "      raise ValueError(\"Resample should be 1, 2, or 4.\")\n",
        "\n",
        "    self.chin = chin\n",
        "    self.chout = chout\n",
        "    self.hidden = hidden\n",
        "    self.depth = depth\n",
        "    self.kernel_size = kernel_size\n",
        "    self.stride = stride\n",
        "    self.causal = causal\n",
        "    self.floor = floor\n",
        "    self.resemple = resample\n",
        "    self.normalize = normalize\n",
        "    self.sample_rate = sample_rate\n",
        "\n",
        "    self.encoder = nn.ModuleList()\n",
        "    self.decoder = nn.ModuleList()\n",
        "    activation = nn.GLU(1) if glu else nn.ReLU()\n",
        "    ch_scale = 2 if glu else 1\n",
        "\n",
        "    for index in range(depth):\n",
        "      encode = []\n",
        "      encode += [\n",
        "          nn.Conv1d(chin, hidden, kernel_size, stride),\n",
        "          nn.ReLU(),\n",
        "          nn.Conv1d(hidden, hidden * ch_scale, 1), activation\n",
        "      ]\n",
        "      self.encoder.append(nn.Sequential(*encode))\n",
        "\n",
        "      decode = []\n",
        "      decode += [\n",
        "          nn.Conv1d(hidden, ch_scale * hidden, 1), activation,\n",
        "          nn.ConvTranspose1d(hidden, chout, kernel_size, stride)\n",
        "      ]\n",
        "      if index > 0:\n",
        "        decode.append(nn.ReLU())\n",
        "      self.decoder.insert(0, nn.Sequential(*decode))\n",
        "      chout = hidden\n",
        "      chin = hidden\n",
        "      hidden = min(int(growth * hidden), max_hidden)\n",
        "\n",
        "    self.lstm = BLSTM(chin, bi=not causal)\n",
        "    if rescale:\n",
        "      rescale_module(self, reference=rescale)\n",
        "\n",
        "  def valid_length(self, length):\n",
        "    length = math.ceil(length * self.resample)\n",
        "    for idx in range(self.depth):\n",
        "      length = math.ceil((length - self.kernel_size) / self.stride) + 1\n",
        "      length = max(length, 1)\n",
        "    for idx in range(self.depth):\n",
        "      length = (length - 1) * self.stride + self.kernel_size\n",
        "    length = int(math.ceil(length / self.resample))\n",
        "    return int(length)\n",
        "\n",
        "  @property\n",
        "  def total_stride(self):\n",
        "    return self.stride ** self.depth // self.resample\n",
        "\n",
        "  def forward(self, mix):\n",
        "    if mix.dim() == 2:\n",
        "      mix = mix.unsqueeze(1)\n",
        "\n",
        "    if self.normalize:\n",
        "      mono = mix.mean(dim=1, keepdim=True)\n",
        "      std = mono.std(dim=-1, keepdim=True)\n",
        "      mix = mix / (self.floor + std)\n",
        "    else:\n",
        "      std = 1\n",
        "    length = mix.shape[-1]\n",
        "    x = mix\n",
        "    x = F.pad(x, (0, self.valid_length(length) - length))\n",
        "    if self.resample == 2:\n",
        "      x = upsample2(x)\n",
        "    elif self.resample == 4:\n",
        "      x = upsample2(x)\n",
        "      x = upsample2(x)\n",
        "    skips = []\n",
        "\n",
        "    for encode in self.encoder:\n",
        "      x = encode(x)\n",
        "      skips.append(x)\n",
        "    x = x.permute(2, 0, 1)\n",
        "    x, _ = self.lstm(x)\n",
        "    x = x.permute(1, 2, 0)\n",
        "    for decode in self.decoder:\n",
        "      skip = skips.pop(-1)\n",
        "      x = x + skip[..., :x.shape[-1]]\n",
        "      x = decode(x)\n",
        "    if self.resample == 2:\n",
        "      x = downsample2(x)\n",
        "    elif self.resample == 4:\n",
        "      x = downsample2(x)\n",
        "      x = downsample2(x)\n",
        "\n",
        "    x = x[..., :length] #get the num of value at the length of length\n",
        "    return std * x\n"
      ],
      "metadata": {
        "id": "BVdHGO8N5AXL"
      },
      "execution_count": null,
      "outputs": []
    },
    {
      "cell_type": "markdown",
      "source": [
        "#### DemucsStreamer"
      ],
      "metadata": {
        "id": "kVhk6PpPFaqr"
      }
    },
    {
      "cell_type": "code",
      "source": [
        "class DemucsStreamer:\n",
        "  def __init__(self, demucs, dry=0, num_frames=1, resample_lookahead=64, resample_buffer=256):\n",
        "    device = next(iter(demucs.parameters())).device\n",
        "    self.demucs = demucs\n",
        "    self.lstm_state = None\n",
        "    self.conv_state = None\n",
        "    self.dry = dry\n",
        "    self.resample_lookahead = resample_lookahead\n",
        "    resample_buffer = min(demucs.total_stride, resample_buffer)\n",
        "   ############################################################################\n",
        "\n"
      ],
      "metadata": {
        "id": "rBouV6mGFacE"
      },
      "execution_count": null,
      "outputs": []
    }
  ]
}